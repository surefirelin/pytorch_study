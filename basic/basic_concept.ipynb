{
 "cells": [
  {
   "cell_type": "code",
   "execution_count": 1,
   "metadata": {
    "ExecuteTime": {
     "end_time": "2019-03-16T07:07:31.019292Z",
     "start_time": "2019-03-16T07:07:27.257301Z"
    }
   },
   "outputs": [],
   "source": [
    "# Imports\n",
    "\n",
    "import torch"
   ]
  },
  {
   "cell_type": "code",
   "execution_count": 17,
   "metadata": {
    "ExecuteTime": {
     "end_time": "2019-03-16T07:39:52.802512Z",
     "start_time": "2019-03-16T07:39:52.776994Z"
    },
    "collapsed": true
   },
   "outputs": [
    {
     "name": "stdout",
     "output_type": "stream",
     "text": [
      "tensor([[0.0000e+00, 0.0000e+00, 0.0000e+00],\n",
      "        [0.0000e+00, 0.0000e+00, 0.0000e+00],\n",
      "        [0.0000e+00, 0.0000e+00, 0.0000e+00],\n",
      "        [0.0000e+00, 9.3607e-43, 0.0000e+00],\n",
      "        [0.0000e+00, 5.5572e-01, 0.0000e+00]])\n",
      "tensor([[0.6347, 0.7872, 0.5380],\n",
      "        [0.8266, 0.3181, 0.9531],\n",
      "        [0.3864, 0.0694, 0.7308],\n",
      "        [0.4605, 0.1534, 0.2910],\n",
      "        [0.9251, 0.4580, 0.9595]])\n",
      "tensor([[-0.0446,  0.0483, -0.2489],\n",
      "        [-0.7796,  1.8542,  0.5033],\n",
      "        [-1.6185,  0.6642,  0.8451],\n",
      "        [-0.2817,  1.6861, -0.1320],\n",
      "        [-0.4188, -0.7152, -0.4451]])\n",
      "tensor([[0, 0, 0],\n",
      "        [0, 0, 0],\n",
      "        [0, 0, 0],\n",
      "        [0, 0, 0],\n",
      "        [0, 0, 0]])\n",
      "tensor([5.5000, 3.0000])\n",
      "tensor([[1., 1., 1.],\n",
      "        [1., 1., 1.],\n",
      "        [1., 1., 1.],\n",
      "        [1., 1., 1.],\n",
      "        [1., 1., 1.]], dtype=torch.float64)\n",
      "tensor([[ 0.0447, -0.5649, -0.0825],\n",
      "        [ 0.9448, -0.7180,  0.1949],\n",
      "        [-0.2352,  1.5759,  0.7241],\n",
      "        [ 1.2947,  0.1221,  0.3083],\n",
      "        [-0.6288,  0.8783,  1.8294]])\n",
      "torch.Size([5, 3])\n"
     ]
    }
   ],
   "source": [
    "#构造一个5*3矩阵，不初始化\n",
    "x = torch.empty(5, 3)\n",
    "print(x)\n",
    "\n",
    "#构造一个5*3矩阵，随机初始化矩阵\n",
    "x = torch.rand(5, 3) #返回一个张量，包含了从区间[0, 1)的均匀分布中抽取的一组随机数\n",
    "print(x)\n",
    "\n",
    "x = torch.randn(5, 3) #返回一个张量，包含了从标准正态分布（均值为0，方差为1，即高斯白噪声）中抽取的一组随机数\n",
    "print(x)\n",
    "\n",
    "#构造一个矩阵全为0，而且数据类型是long\n",
    "x = torch.zeros(5, 3, dtype=torch.long)\n",
    "print(x)\n",
    "\n",
    "#直接使用数据构造一个张量\n",
    "x = torch.tensor([5.5, 3])\n",
    "print(x)\n",
    "\n",
    "#创建一个tensor基于已经存在的tensor\n",
    "x = x.new_ones(5, 3, dtype=torch.double)      \n",
    "# new_* methods take in sizes\n",
    "print(x)\n",
    "\n",
    "x = torch.randn_like(x, dtype=torch.float)    \n",
    "# override dtype!\n",
    "print(x)                                      \n",
    "# result has the same size\n",
    "\n",
    "print(x.size()) #获取维度信息"
   ]
  },
  {
   "cell_type": "code",
   "execution_count": 15,
   "metadata": {
    "ExecuteTime": {
     "end_time": "2019-03-16T07:32:00.006083Z",
     "start_time": "2019-03-16T07:31:59.937402Z"
    },
    "collapsed": true
   },
   "outputs": [
    {
     "name": "stdout",
     "output_type": "stream",
     "text": [
      "tensor([[-0.0881,  0.1031, -0.1286],\n",
      "        [-0.7086,  0.2330,  0.8476],\n",
      "        [ 2.9540,  0.1087,  1.6039],\n",
      "        [ 0.4912,  0.5128,  1.8104],\n",
      "        [-0.5175,  0.5557,  0.0847]])\n",
      "tensor([[-0.0881,  0.1031, -0.1286],\n",
      "        [-0.7086,  0.2330,  0.8476],\n",
      "        [ 2.9540,  0.1087,  1.6039],\n",
      "        [ 0.4912,  0.5128,  1.8104],\n",
      "        [-0.5175,  0.5557,  0.0847]])\n",
      "tensor([[-0.0881,  0.1031, -0.1286],\n",
      "        [-0.7086,  0.2330,  0.8476],\n",
      "        [ 2.9540,  0.1087,  1.6039],\n",
      "        [ 0.4912,  0.5128,  1.8104],\n",
      "        [-0.5175,  0.5557,  0.0847]])\n",
      "tensor([[-0.4496, -0.0398, -0.6460],\n",
      "        [-2.0239,  0.0243,  1.0459],\n",
      "        [ 5.0854, -0.0446,  2.3499],\n",
      "        [ 0.2018,  0.7042,  3.4476],\n",
      "        [-1.3822,  0.7846, -0.8107]])\n"
     ]
    }
   ],
   "source": [
    "#加法\n",
    "y = torch.rand(5, 3)\n",
    "print(x + y)\n",
    "\n",
    "print(torch.add(x, y)) #这种直观一些\n",
    "\n",
    "y.add_(x)\n",
    "print(y)\n",
    "#note: 任何使张量会发生变化的操作都有一个后缀“_”.\n",
    "#例如：x.copy_(y), x.t_(),将会改变x\n",
    "\n",
    "#提供一个输出tensor作为参数\n",
    "result = torch.empty(5, 3)\n",
    "torch.add(x, y, out=result)\n",
    "print(result)"
   ]
  },
  {
   "cell_type": "code",
   "execution_count": 16,
   "metadata": {
    "ExecuteTime": {
     "end_time": "2019-03-16T07:37:58.996531Z",
     "start_time": "2019-03-16T07:37:58.987527Z"
    }
   },
   "outputs": [
    {
     "name": "stdout",
     "output_type": "stream",
     "text": [
      "tensor([-0.1429, -0.2087, -0.1533,  0.1914,  0.2289])\n"
     ]
    }
   ],
   "source": [
    "#索引操作\n",
    "print(x[:, 1]) #所有行的第1列"
   ]
  },
  {
   "cell_type": "code",
   "execution_count": 18,
   "metadata": {
    "ExecuteTime": {
     "end_time": "2019-03-16T07:44:10.492095Z",
     "start_time": "2019-03-16T07:44:10.464071Z"
    }
   },
   "outputs": [
    {
     "name": "stdout",
     "output_type": "stream",
     "text": [
      "torch.Size([4, 4]) torch.Size([16]) torch.Size([2, 8])\n"
     ]
    }
   ],
   "source": [
    "#改变tensor大小或形状\n",
    "x = torch.randn(4, 4)\n",
    "y = x.view(16)\n",
    "z = x.view(-1, 8) #the size -1 is inferred from other dimensions\n",
    "print(x.size(), y.size(), z.size())"
   ]
  },
  {
   "cell_type": "code",
   "execution_count": 20,
   "metadata": {
    "ExecuteTime": {
     "end_time": "2019-03-16T07:57:41.376130Z",
     "start_time": "2019-03-16T07:57:41.365113Z"
    }
   },
   "outputs": [
    {
     "name": "stdout",
     "output_type": "stream",
     "text": [
      "tensor([1.3768])\n",
      "1.3767856359481812\n"
     ]
    }
   ],
   "source": [
    "#获取值\n",
    "x = torch.randn(1) #只有一个元素的tensor\n",
    "print(x)\n",
    "print(x.item())"
   ]
  },
  {
   "cell_type": "code",
   "execution_count": null,
   "metadata": {},
   "outputs": [],
   "source": []
  }
 ],
 "metadata": {
  "kernelspec": {
   "display_name": "Python 3",
   "language": "python",
   "name": "python3"
  },
  "language_info": {
   "codemirror_mode": {
    "name": "ipython",
    "version": 3
   },
   "file_extension": ".py",
   "mimetype": "text/x-python",
   "name": "python",
   "nbconvert_exporter": "python",
   "pygments_lexer": "ipython3",
   "version": "3.7.2"
  },
  "varInspector": {
   "cols": {
    "lenName": 16,
    "lenType": 16,
    "lenVar": 40
   },
   "kernels_config": {
    "python": {
     "delete_cmd_postfix": "",
     "delete_cmd_prefix": "del ",
     "library": "var_list.py",
     "varRefreshCmd": "print(var_dic_list())"
    },
    "r": {
     "delete_cmd_postfix": ") ",
     "delete_cmd_prefix": "rm(",
     "library": "var_list.r",
     "varRefreshCmd": "cat(var_dic_list()) "
    }
   },
   "types_to_exclude": [
    "module",
    "function",
    "builtin_function_or_method",
    "instance",
    "_Feature"
   ],
   "window_display": false
  }
 },
 "nbformat": 4,
 "nbformat_minor": 2
}
